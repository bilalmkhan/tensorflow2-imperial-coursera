{
  "nbformat": 4,
  "nbformat_minor": 0,
  "metadata": {
    "kernelspec": {
      "display_name": "Python 3",
      "language": "python",
      "name": "python3"
    },
    "language_info": {
      "codemirror_mode": {
        "name": "ipython",
        "version": 3
      },
      "file_extension": ".py",
      "mimetype": "text/x-python",
      "name": "python",
      "nbconvert_exporter": "python",
      "pygments_lexer": "ipython3",
      "version": "3.7.1"
    },
    "colab": {
      "name": "3. Saving model architecture only.ipynb",
      "provenance": []
    }
  },
  "cells": [
    {
      "cell_type": "markdown",
      "metadata": {
        "id": "BmirDn9Z9OsH"
      },
      "source": [
        "# Saving model architecture only\n",
        "\n",
        "In this reading you will learn how to save a model's architecture, but not its weights."
      ]
    },
    {
      "cell_type": "code",
      "metadata": {
        "id": "6BkA_tem9OsL"
      },
      "source": [
        "import tensorflow as tf\n",
        "from tensorflow.keras.models import Sequential\n",
        "from tensorflow.keras.layers import Dense\n",
        "import json\n",
        "import numpy as np"
      ],
      "execution_count": 1,
      "outputs": []
    },
    {
      "cell_type": "markdown",
      "metadata": {
        "id": "11F-9QY79OsM"
      },
      "source": [
        "In previous videos and notebooks you have have learned how to save a model's weights, as well as the entire model - weights and architecture."
      ]
    },
    {
      "cell_type": "markdown",
      "metadata": {
        "id": "kYS072Np9OsO"
      },
      "source": [
        "### Accessing a model's configuration\n",
        "A model's *configuration* refers to its architecture. TensorFlow has a convenient way to retrieve a model's architecture as a dictionary. We start by creating a simple fully connected feedforward neural network with 1 hidden layer."
      ]
    },
    {
      "cell_type": "code",
      "metadata": {
        "id": "HYOTc65J9OsR"
      },
      "source": [
        "# Build the model\n",
        "\n",
        "model = Sequential([\n",
        "    Dense(units=32, input_shape=(32, 32, 3), activation='relu', name='dense_1'),\n",
        "    Dense(units=10, activation='softmax', name='dense_2')\n",
        "])"
      ],
      "execution_count": 2,
      "outputs": []
    },
    {
      "cell_type": "markdown",
      "metadata": {
        "id": "cE0TR2-u9OsR"
      },
      "source": [
        "A TensorFlow model has an inbuilt method `get_config` which returns the model's architecture as a dictionary:"
      ]
    },
    {
      "cell_type": "code",
      "metadata": {
        "colab": {
          "base_uri": "https://localhost:8080/"
        },
        "id": "TgwGvAus9OsS",
        "outputId": "2e08951c-6614-423b-8e79-bbbbd162edd7"
      },
      "source": [
        "# Get the model config\n",
        "\n",
        "config_dict = model.get_config()\n",
        "print(config_dict)"
      ],
      "execution_count": 3,
      "outputs": [
        {
          "output_type": "stream",
          "text": [
            "{'name': 'sequential', 'layers': [{'class_name': 'InputLayer', 'config': {'batch_input_shape': (None, 32, 32, 3), 'dtype': 'float32', 'sparse': False, 'ragged': False, 'name': 'dense_1_input'}}, {'class_name': 'Dense', 'config': {'name': 'dense_1', 'trainable': True, 'batch_input_shape': (None, 32, 32, 3), 'dtype': 'float32', 'units': 32, 'activation': 'relu', 'use_bias': True, 'kernel_initializer': {'class_name': 'GlorotUniform', 'config': {'seed': None}}, 'bias_initializer': {'class_name': 'Zeros', 'config': {}}, 'kernel_regularizer': None, 'bias_regularizer': None, 'activity_regularizer': None, 'kernel_constraint': None, 'bias_constraint': None}}, {'class_name': 'Dense', 'config': {'name': 'dense_2', 'trainable': True, 'dtype': 'float32', 'units': 10, 'activation': 'softmax', 'use_bias': True, 'kernel_initializer': {'class_name': 'GlorotUniform', 'config': {'seed': None}}, 'bias_initializer': {'class_name': 'Zeros', 'config': {}}, 'kernel_regularizer': None, 'bias_regularizer': None, 'activity_regularizer': None, 'kernel_constraint': None, 'bias_constraint': None}}]}\n"
          ],
          "name": "stdout"
        }
      ]
    },
    {
      "cell_type": "markdown",
      "metadata": {
        "id": "haXmQEgo9OsS"
      },
      "source": [
        "### Creating a new model from the config\n",
        "A new TensorFlow model can be created from this config dictionary. This model will have reinitialized weights, which are not the same as the original model."
      ]
    },
    {
      "cell_type": "code",
      "metadata": {
        "id": "yrjieMK-9OsT"
      },
      "source": [
        "# Create a model from the config dictionary\n",
        "\n",
        "model_same_config = tf.keras.Sequential.from_config(config_dict)"
      ],
      "execution_count": 4,
      "outputs": []
    },
    {
      "cell_type": "markdown",
      "metadata": {
        "id": "t2U_dm0g9OsT"
      },
      "source": [
        "We can check explicitly that the config of both models is the same, but the weights are not: "
      ]
    },
    {
      "cell_type": "code",
      "metadata": {
        "colab": {
          "base_uri": "https://localhost:8080/"
        },
        "id": "lwgGzhQo9OsU",
        "outputId": "c65920a5-99c3-4116-dbf5-1d708aced741"
      },
      "source": [
        "# Check the new model is the same architecture\n",
        "\n",
        "print('Same config:', \n",
        "      model.get_config() == model_same_config.get_config())\n",
        "print('Same value for first weight matrix:', \n",
        "      np.allclose(model.weights[0].numpy(), model_same_config.weights[0].numpy()))"
      ],
      "execution_count": 5,
      "outputs": [
        {
          "output_type": "stream",
          "text": [
            "Same config: True\n",
            "Same value for first weight matrix: False\n"
          ],
          "name": "stdout"
        }
      ]
    },
    {
      "cell_type": "markdown",
      "metadata": {
        "id": "2h84ty4x9OsU"
      },
      "source": [
        "For models that are not `Sequential` models, use `tf.keras.Model.from_config` instead of `tf.keras.Sequential.from_config`."
      ]
    },
    {
      "cell_type": "markdown",
      "metadata": {
        "id": "59CZH80b9OsU"
      },
      "source": [
        "### Other file formats: JSON and YAML\n",
        "It is also possible to obtain a model's config in JSON or YAML formats. This follows the same pattern:"
      ]
    },
    {
      "cell_type": "code",
      "metadata": {
        "colab": {
          "base_uri": "https://localhost:8080/"
        },
        "id": "l05uogGW9OsV",
        "outputId": "9a2080dd-315b-4c3f-8f61-eb250e916cf2"
      },
      "source": [
        "# Convert the model to JSON\n",
        "\n",
        "json_string = model.to_json()\n",
        "print(json_string)"
      ],
      "execution_count": 6,
      "outputs": [
        {
          "output_type": "stream",
          "text": [
            "{\"class_name\": \"Sequential\", \"config\": {\"name\": \"sequential\", \"layers\": [{\"class_name\": \"InputLayer\", \"config\": {\"batch_input_shape\": [null, 32, 32, 3], \"dtype\": \"float32\", \"sparse\": false, \"ragged\": false, \"name\": \"dense_1_input\"}}, {\"class_name\": \"Dense\", \"config\": {\"name\": \"dense_1\", \"trainable\": true, \"batch_input_shape\": [null, 32, 32, 3], \"dtype\": \"float32\", \"units\": 32, \"activation\": \"relu\", \"use_bias\": true, \"kernel_initializer\": {\"class_name\": \"GlorotUniform\", \"config\": {\"seed\": null}}, \"bias_initializer\": {\"class_name\": \"Zeros\", \"config\": {}}, \"kernel_regularizer\": null, \"bias_regularizer\": null, \"activity_regularizer\": null, \"kernel_constraint\": null, \"bias_constraint\": null}}, {\"class_name\": \"Dense\", \"config\": {\"name\": \"dense_2\", \"trainable\": true, \"dtype\": \"float32\", \"units\": 10, \"activation\": \"softmax\", \"use_bias\": true, \"kernel_initializer\": {\"class_name\": \"GlorotUniform\", \"config\": {\"seed\": null}}, \"bias_initializer\": {\"class_name\": \"Zeros\", \"config\": {}}, \"kernel_regularizer\": null, \"bias_regularizer\": null, \"activity_regularizer\": null, \"kernel_constraint\": null, \"bias_constraint\": null}}]}, \"keras_version\": \"2.5.0\", \"backend\": \"tensorflow\"}\n"
          ],
          "name": "stdout"
        }
      ]
    },
    {
      "cell_type": "markdown",
      "metadata": {
        "id": "hRFThOF59OsV"
      },
      "source": [
        "The JSON format can easily be written out and saved as a file:"
      ]
    },
    {
      "cell_type": "code",
      "metadata": {
        "id": "yEehSbT39OsV"
      },
      "source": [
        "# Write out JSON config file\n",
        "\n",
        "with open('config.json', 'w') as f:\n",
        "    json.dump(json_string, f)\n",
        "del json_string"
      ],
      "execution_count": 7,
      "outputs": []
    },
    {
      "cell_type": "code",
      "metadata": {
        "id": "GldQyDR79OsV"
      },
      "source": [
        "# Read in JSON config file again\n",
        "\n",
        "with open('config.json', 'r') as f:\n",
        "    json_string = json.load(f)"
      ],
      "execution_count": 8,
      "outputs": []
    },
    {
      "cell_type": "code",
      "metadata": {
        "id": "8h79Q6Cs9OsW"
      },
      "source": [
        "# Reinitialize the model\n",
        "\n",
        "model_same_config = tf.keras.models.model_from_json(json_string)"
      ],
      "execution_count": 9,
      "outputs": []
    },
    {
      "cell_type": "code",
      "metadata": {
        "colab": {
          "base_uri": "https://localhost:8080/"
        },
        "id": "-wYGRGIe9OsW",
        "outputId": "7178e6fc-b587-40bb-c529-0b7d9b4fd818"
      },
      "source": [
        "# Check the new model is the same architecture, but different weights\n",
        "\n",
        "print('Same config:', \n",
        "      model.get_config() == model_same_config.get_config())\n",
        "print('Same value for first weight matrix:', \n",
        "      np.allclose(model.weights[0].numpy(), model_same_config.weights[0].numpy()))"
      ],
      "execution_count": 10,
      "outputs": [
        {
          "output_type": "stream",
          "text": [
            "Same config: True\n",
            "Same value for first weight matrix: False\n"
          ],
          "name": "stdout"
        }
      ]
    },
    {
      "cell_type": "markdown",
      "metadata": {
        "id": "AEAiMrS09OsW"
      },
      "source": [
        "The YAML format is similar. The details of writing out YAML files, loading them and using them to create a new model are similar as for the JSON files, so we won't show it here."
      ]
    },
    {
      "cell_type": "code",
      "metadata": {
        "colab": {
          "base_uri": "https://localhost:8080/"
        },
        "id": "_ReGA92c9OsW",
        "outputId": "e56a0403-2592-49f0-9b18-8c32ae6efb2d"
      },
      "source": [
        "# Convert the model to YAML\n",
        "\n",
        "yaml_string = model.to_yaml()\n",
        "print(yaml_string)"
      ],
      "execution_count": 11,
      "outputs": [
        {
          "output_type": "stream",
          "text": [
            "backend: tensorflow\n",
            "class_name: Sequential\n",
            "config:\n",
            "  layers:\n",
            "  - class_name: InputLayer\n",
            "    config:\n",
            "      batch_input_shape: !!python/tuple [null, 32, 32, 3]\n",
            "      dtype: float32\n",
            "      name: dense_1_input\n",
            "      ragged: false\n",
            "      sparse: false\n",
            "  - class_name: Dense\n",
            "    config:\n",
            "      activation: relu\n",
            "      activity_regularizer: null\n",
            "      batch_input_shape: !!python/tuple [null, 32, 32, 3]\n",
            "      bias_constraint: null\n",
            "      bias_initializer:\n",
            "        class_name: Zeros\n",
            "        config: {}\n",
            "      bias_regularizer: null\n",
            "      dtype: float32\n",
            "      kernel_constraint: null\n",
            "      kernel_initializer:\n",
            "        class_name: GlorotUniform\n",
            "        config: {seed: null}\n",
            "      kernel_regularizer: null\n",
            "      name: dense_1\n",
            "      trainable: true\n",
            "      units: 32\n",
            "      use_bias: true\n",
            "  - class_name: Dense\n",
            "    config:\n",
            "      activation: softmax\n",
            "      activity_regularizer: null\n",
            "      bias_constraint: null\n",
            "      bias_initializer:\n",
            "        class_name: Zeros\n",
            "        config: {}\n",
            "      bias_regularizer: null\n",
            "      dtype: float32\n",
            "      kernel_constraint: null\n",
            "      kernel_initializer:\n",
            "        class_name: GlorotUniform\n",
            "        config: {seed: null}\n",
            "      kernel_regularizer: null\n",
            "      name: dense_2\n",
            "      trainable: true\n",
            "      units: 10\n",
            "      use_bias: true\n",
            "  name: sequential\n",
            "keras_version: 2.5.0\n",
            "\n"
          ],
          "name": "stdout"
        }
      ]
    },
    {
      "cell_type": "markdown",
      "metadata": {
        "id": "gsaIwI4O9OsX"
      },
      "source": [
        "Writing out, reading in and using YAML files to create models is similar to JSON files. "
      ]
    },
    {
      "cell_type": "markdown",
      "metadata": {
        "id": "4j2wdlAC9OsX"
      },
      "source": [
        "### Further reading and resources\n",
        "* https://www.tensorflow.org/guide/keras/save_and_serialize#architecture-only_saving\n",
        "* https://keras.io/getting-started/faq/#how-can-i-save-a-keras-model"
      ]
    },
    {
      "cell_type": "code",
      "metadata": {
        "id": "0lvmYLIq9UJ5"
      },
      "source": [
        ""
      ],
      "execution_count": null,
      "outputs": []
    }
  ]
}