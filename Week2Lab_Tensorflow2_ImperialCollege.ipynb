{
  "nbformat": 4,
  "nbformat_minor": 0,
  "metadata": {
    "colab": {
      "name": "Week2Lab_Tensorflow2_ImperialCollege.ipynb",
      "provenance": []
    },
    "kernelspec": {
      "name": "python3",
      "display_name": "Python 3"
    },
    "language_info": {
      "name": "python"
    },
    "accelerator": "GPU"
  },
  "cells": [
    {
      "cell_type": "markdown",
      "metadata": {
        "id": "uZbd3gQFBg5b"
      },
      "source": [
        "*Getting Started with Tensorflow 2*\n",
        "\n",
        "*Week 2 Lab*\n",
        "\n",
        "*Coursera/Imperial College London*"
      ]
    },
    {
      "cell_type": "code",
      "metadata": {
        "colab": {
          "base_uri": "https://localhost:8080/"
        },
        "id": "h6lBUmkIBo2z",
        "outputId": "2e70b406-b811-440d-d81c-4f7caeb641e2"
      },
      "source": [
        "import tensorflow as tf\n",
        "print(tf.__version__)"
      ],
      "execution_count": 1,
      "outputs": [
        {
          "output_type": "stream",
          "text": [
            "2.5.0\n"
          ],
          "name": "stdout"
        }
      ]
    },
    {
      "cell_type": "markdown",
      "metadata": {
        "id": "jfMLKFOFR_8W"
      },
      "source": [
        "# The Sequential Model API"
      ]
    },
    {
      "cell_type": "markdown",
      "metadata": {
        "id": "GDkyfb9lSJOY"
      },
      "source": [
        "## **Building a Sequential Model**"
      ]
    },
    {
      "cell_type": "code",
      "metadata": {
        "id": "bJdpY9MuSTLC"
      },
      "source": [
        "from tensorflow.keras.models import Sequential\n",
        "from tensorflow.keras.layers import Dense, Flatten, Softmax"
      ],
      "execution_count": 2,
      "outputs": []
    },
    {
      "cell_type": "markdown",
      "metadata": {
        "id": "qXixrL7lSi1H"
      },
      "source": [
        "**Build a feedforward neural network model**"
      ]
    },
    {
      "cell_type": "code",
      "metadata": {
        "id": "KOR2O8tISrQh"
      },
      "source": [
        "# Build the Sequential feedforward neural network model\n",
        "\n",
        "model = Sequential([\n",
        "                    Flatten(input_shape=(28,28)),\n",
        "                    Dense(16, activation='relu'),\n",
        "                    Dense(16, activation='relu'),\n",
        "                    Dense(10, activation='softmax')\n",
        "])"
      ],
      "execution_count": 3,
      "outputs": []
    },
    {
      "cell_type": "code",
      "metadata": {
        "colab": {
          "base_uri": "https://localhost:8080/"
        },
        "id": "udDlwWUsTGJo",
        "outputId": "e9cd00cb-dfdd-40f4-fb8e-c52ee290b569"
      },
      "source": [
        "# Print the model summary\n",
        "\n",
        "model.summary()"
      ],
      "execution_count": 4,
      "outputs": [
        {
          "output_type": "stream",
          "text": [
            "Model: \"sequential\"\n",
            "_________________________________________________________________\n",
            "Layer (type)                 Output Shape              Param #   \n",
            "=================================================================\n",
            "flatten (Flatten)            (None, 784)               0         \n",
            "_________________________________________________________________\n",
            "dense (Dense)                (None, 16)                12560     \n",
            "_________________________________________________________________\n",
            "dense_1 (Dense)              (None, 16)                272       \n",
            "_________________________________________________________________\n",
            "dense_2 (Dense)              (None, 10)                170       \n",
            "=================================================================\n",
            "Total params: 13,002\n",
            "Trainable params: 13,002\n",
            "Non-trainable params: 0\n",
            "_________________________________________________________________\n"
          ],
          "name": "stdout"
        }
      ]
    },
    {
      "cell_type": "markdown",
      "metadata": {
        "id": "WFfJoaVOg1Ry"
      },
      "source": [
        "You can substitute the Softmax activation function in the last `Dense` layer by a new `Softmax` layer. Note that the default activation function for the dense layer is linear. If you now run `model.summary()`, you can check that the output is identical as the previous one.\n",
        "\n",
        "In addition, you can try to define a name for each layer. For instance, let's call the first layer `layer_1` \n"
      ]
    },
    {
      "cell_type": "code",
      "metadata": {
        "id": "Sp1YF0yzTRZC"
      },
      "source": [
        "# Build the Sequential feedforward neural network model\n",
        "\n",
        "model = Sequential([\n",
        "                    Flatten(input_shape=(28,28)),\n",
        "                    Dense(16, activation='relu', name='layer_1'),\n",
        "                    Dense(16, activation='relu'),\n",
        "                    Dense(10),\n",
        "                    Softmax()\n",
        "])"
      ],
      "execution_count": 5,
      "outputs": []
    },
    {
      "cell_type": "code",
      "metadata": {
        "colab": {
          "base_uri": "https://localhost:8080/"
        },
        "id": "4NeENR9WhS5f",
        "outputId": "7a34965f-e84c-458f-f0b3-d503767a9afa"
      },
      "source": [
        "model.summary()"
      ],
      "execution_count": 6,
      "outputs": [
        {
          "output_type": "stream",
          "text": [
            "Model: \"sequential_1\"\n",
            "_________________________________________________________________\n",
            "Layer (type)                 Output Shape              Param #   \n",
            "=================================================================\n",
            "flatten_1 (Flatten)          (None, 784)               0         \n",
            "_________________________________________________________________\n",
            "layer_1 (Dense)              (None, 16)                12560     \n",
            "_________________________________________________________________\n",
            "dense_3 (Dense)              (None, 16)                272       \n",
            "_________________________________________________________________\n",
            "dense_4 (Dense)              (None, 10)                170       \n",
            "_________________________________________________________________\n",
            "softmax (Softmax)            (None, 10)                0         \n",
            "=================================================================\n",
            "Total params: 13,002\n",
            "Trainable params: 13,002\n",
            "Non-trainable params: 0\n",
            "_________________________________________________________________\n"
          ],
          "name": "stdout"
        }
      ]
    },
    {
      "cell_type": "markdown",
      "metadata": {
        "id": "Mkp3slAChTZB"
      },
      "source": [
        "## **Convolutional and pooling layers**"
      ]
    },
    {
      "cell_type": "code",
      "metadata": {
        "id": "bdbkGSighupO"
      },
      "source": [
        "from tensorflow.keras.models import Sequential\n",
        "from tensorflow.keras.layers import Dense, Flatten, Conv2D, MaxPooling2D"
      ],
      "execution_count": 7,
      "outputs": []
    },
    {
      "cell_type": "markdown",
      "metadata": {
        "id": "QDsLrvNQiHVq"
      },
      "source": [
        "**Build a convolutional neural network model**"
      ]
    },
    {
      "cell_type": "code",
      "metadata": {
        "id": "8-FSH5JSiMOT"
      },
      "source": [
        "# Build the sequential convolutional neural network model\n",
        "\n",
        "model = Sequential([\n",
        "                    Conv2D(16, (3,3), activation='relu', \n",
        "                           # padding='SAME', strides=2,\n",
        "                           input_shape=(28,28,1), data_format='channels_last' \n",
        "                           # input_shape=(1,28,28), data_format='channels_first'\n",
        "                           ),\n",
        "                    MaxPooling2D((3,3)),\n",
        "                    Flatten(),\n",
        "                    Dense(10, activation='softmax')\n",
        "])"
      ],
      "execution_count": 8,
      "outputs": []
    },
    {
      "cell_type": "code",
      "metadata": {
        "colab": {
          "base_uri": "https://localhost:8080/"
        },
        "id": "vt727v5Ri2ep",
        "outputId": "714358dd-284a-43c8-80f6-c825a6737555"
      },
      "source": [
        "model.summary()"
      ],
      "execution_count": 9,
      "outputs": [
        {
          "output_type": "stream",
          "text": [
            "Model: \"sequential_2\"\n",
            "_________________________________________________________________\n",
            "Layer (type)                 Output Shape              Param #   \n",
            "=================================================================\n",
            "conv2d (Conv2D)              (None, 26, 26, 16)        160       \n",
            "_________________________________________________________________\n",
            "max_pooling2d (MaxPooling2D) (None, 8, 8, 16)          0         \n",
            "_________________________________________________________________\n",
            "flatten_2 (Flatten)          (None, 1024)              0         \n",
            "_________________________________________________________________\n",
            "dense_5 (Dense)              (None, 10)                10250     \n",
            "=================================================================\n",
            "Total params: 10,410\n",
            "Trainable params: 10,410\n",
            "Non-trainable params: 0\n",
            "_________________________________________________________________\n"
          ],
          "name": "stdout"
        }
      ]
    },
    {
      "cell_type": "markdown",
      "metadata": {
        "id": "juT6KBVCi3i-"
      },
      "source": [
        "## **The compile method**\n",
        "\n",
        "**Compile the model**"
      ]
    },
    {
      "cell_type": "code",
      "metadata": {
        "id": "_9xXeeOJj_VK"
      },
      "source": [
        "# Define the model optimizer, loss function and metrics\n",
        "\n",
        "model.compile(optimizer='adam',                        # 'sgd', 'rmsprop', 'adadelta'\n",
        "              loss='sparse_categorical_crossentropy',  # labels are integers\n",
        "              # loss='categorical_crossentropy         # labels are one-hot vectors\n",
        "              metrics=['accuracy', 'mae'])"
      ],
      "execution_count": 10,
      "outputs": []
    },
    {
      "cell_type": "code",
      "metadata": {
        "colab": {
          "base_uri": "https://localhost:8080/"
        },
        "id": "4tdKI7eHkUM4",
        "outputId": "8befd273-6e7b-4232-d5f0-39ebb3d3fcb0"
      },
      "source": [
        "# Print the resulting model attributes\n",
        "\n",
        "print(model.loss)\n",
        "print(model.optimizer)\n",
        "print(model.metrics)"
      ],
      "execution_count": 11,
      "outputs": [
        {
          "output_type": "stream",
          "text": [
            "sparse_categorical_crossentropy\n",
            "<tensorflow.python.keras.optimizer_v2.adam.Adam object at 0x7f6b96c28990>\n",
            "[]\n"
          ],
          "name": "stdout"
        }
      ]
    },
    {
      "cell_type": "markdown",
      "metadata": {
        "id": "y-sUZOrvkzn7"
      },
      "source": [
        "For some applications you may want to tune a specific parameters. As an example you may need to control the learning rate of the optimization algorithm. To do this you need to create an object for the loss functions, metrics, optimization algorithms. Once created you can introduce it in the compiled method as before. "
      ]
    },
    {
      "cell_type": "code",
      "metadata": {
        "id": "ooRHCEUbsH47"
      },
      "source": [
        "# Define the model optimizer, loss function and metrics\n",
        "\n",
        "opt = tf.keras.optimizers.Adam(learning_rate=0.005)\n",
        "acc = tf.keras.metrics.SparseCategoricalAccuracy()\n",
        "mae = tf.keras.metrics.MeanAbsoluteError()\n",
        "\n",
        "model.compile(optimizer=opt,                        \n",
        "              loss='sparse_categorical_crossentropy',\n",
        "              metrics=[acc, mae])"
      ],
      "execution_count": 12,
      "outputs": []
    },
    {
      "cell_type": "code",
      "metadata": {
        "colab": {
          "base_uri": "https://localhost:8080/"
        },
        "id": "Im2yzTC2sfIs",
        "outputId": "e0fbae52-f288-40b6-e84f-5ce3e65e6ae5"
      },
      "source": [
        "# Print the resulting model attributes\n",
        "\n",
        "print(model.loss)\n",
        "print(model.optimizer)\n",
        "print(model.metrics)\n",
        "print(model.optimizer.lr)"
      ],
      "execution_count": 13,
      "outputs": [
        {
          "output_type": "stream",
          "text": [
            "sparse_categorical_crossentropy\n",
            "<tensorflow.python.keras.optimizer_v2.adam.Adam object at 0x7f6b80111990>\n",
            "[]\n",
            "<tf.Variable 'learning_rate:0' shape=() dtype=float32, numpy=0.005>\n"
          ],
          "name": "stdout"
        }
      ]
    },
    {
      "cell_type": "markdown",
      "metadata": {
        "id": "vgw2b8ims352"
      },
      "source": [
        "## **The fit method** "
      ]
    },
    {
      "cell_type": "code",
      "metadata": {
        "id": "bLVR78mNtrBe"
      },
      "source": [
        "from tensorflow.keras.preprocessing import image\n",
        "import matplotlib.pyplot as plt\n",
        "import numpy as np\n",
        "import pandas as pd"
      ],
      "execution_count": 14,
      "outputs": []
    },
    {
      "cell_type": "markdown",
      "metadata": {
        "id": "_tA52mOTt3JF"
      },
      "source": [
        "**Load the data**"
      ]
    },
    {
      "cell_type": "code",
      "metadata": {
        "colab": {
          "base_uri": "https://localhost:8080/"
        },
        "id": "efoJuwYbt8Iv",
        "outputId": "d6b2c0d1-7c23-4d64-f5f1-9f4d89b05afe"
      },
      "source": [
        "# Load the Fashion-MNIST dataset\n",
        "\n",
        "fashion_mnist_data = tf.keras.datasets.fashion_mnist\n",
        "(train_images, train_labels), (test_images, test_labels) = fashion_mnist_data.load_data()"
      ],
      "execution_count": 15,
      "outputs": [
        {
          "output_type": "stream",
          "text": [
            "Downloading data from https://storage.googleapis.com/tensorflow/tf-keras-datasets/train-labels-idx1-ubyte.gz\n",
            "32768/29515 [=================================] - 0s 0us/step\n",
            "Downloading data from https://storage.googleapis.com/tensorflow/tf-keras-datasets/train-images-idx3-ubyte.gz\n",
            "26427392/26421880 [==============================] - 0s 0us/step\n",
            "Downloading data from https://storage.googleapis.com/tensorflow/tf-keras-datasets/t10k-labels-idx1-ubyte.gz\n",
            "8192/5148 [===============================================] - 0s 0us/step\n",
            "Downloading data from https://storage.googleapis.com/tensorflow/tf-keras-datasets/t10k-images-idx3-ubyte.gz\n",
            "4423680/4422102 [==============================] - 0s 0us/step\n"
          ],
          "name": "stdout"
        }
      ]
    },
    {
      "cell_type": "code",
      "metadata": {
        "colab": {
          "base_uri": "https://localhost:8080/"
        },
        "id": "LUhRW7dhuOXc",
        "outputId": "7cac339b-b67f-4867-99ac-e9c44632c672"
      },
      "source": [
        "# Print the shape of the training data\n",
        "\n",
        "train_images.shape"
      ],
      "execution_count": 16,
      "outputs": [
        {
          "output_type": "execute_result",
          "data": {
            "text/plain": [
              "(60000, 28, 28)"
            ]
          },
          "metadata": {
            "tags": []
          },
          "execution_count": 16
        }
      ]
    },
    {
      "cell_type": "code",
      "metadata": {
        "colab": {
          "base_uri": "https://localhost:8080/"
        },
        "id": "Do7EjaTCA_VP",
        "outputId": "c6123c46-83e8-4f78-8808-2134601e75d4"
      },
      "source": [
        "test_images.shape"
      ],
      "execution_count": 17,
      "outputs": [
        {
          "output_type": "execute_result",
          "data": {
            "text/plain": [
              "(10000, 28, 28)"
            ]
          },
          "metadata": {
            "tags": []
          },
          "execution_count": 17
        }
      ]
    },
    {
      "cell_type": "code",
      "metadata": {
        "colab": {
          "base_uri": "https://localhost:8080/"
        },
        "id": "hC6WU9nCu82E",
        "outputId": "dd166273-b964-430e-9011-dde66e89e5e5"
      },
      "source": [
        "# Define the labels\n",
        "\n",
        "labels = [\n",
        "    'T-shirt/top',\n",
        "    'Trouser',\n",
        "    'Pullover',\n",
        "    'Dress',\n",
        "    'Coat',\n",
        "    'Sandal',\n",
        "    'Shirt',\n",
        "    'Sneaker',\n",
        "    'Bag',\n",
        "    'Ankle boot'\n",
        "]\n",
        "\n",
        "print(train_labels[0])"
      ],
      "execution_count": 18,
      "outputs": [
        {
          "output_type": "stream",
          "text": [
            "9\n"
          ],
          "name": "stdout"
        }
      ]
    },
    {
      "cell_type": "code",
      "metadata": {
        "id": "L4QHBFI1vFrs"
      },
      "source": [
        "# Rescale the image values so that they lie in between 0 and 1.\n",
        "\n",
        "train_images = train_images/255\n",
        "test_images = test_images/255"
      ],
      "execution_count": 19,
      "outputs": []
    },
    {
      "cell_type": "code",
      "metadata": {
        "colab": {
          "base_uri": "https://localhost:8080/",
          "height": 282
        },
        "id": "tV15OciuvHLj",
        "outputId": "938637f9-75b5-4f84-e9f6-331e6ce67ad5"
      },
      "source": [
        "# Display one of the images\n",
        "\n",
        "i = 0\n",
        "img = train_images[i,:,:]\n",
        "plt.imshow(img)\n",
        "plt.show()\n",
        "print(f\"label: {labels[train_labels[i]]}\")"
      ],
      "execution_count": 20,
      "outputs": [
        {
          "output_type": "display_data",
          "data": {
            "image/png": "[encoded data removed]",
            "text/plain": [
              "<Figure size 432x288 with 1 Axes>"
            ]
          },
          "metadata": {
            "tags": [],
            "needs_background": "light"
          }
        },
        {
          "output_type": "stream",
          "text": [
            "label: Ankle boot\n"
          ],
          "name": "stdout"
        }
      ]
    },
    {
      "cell_type": "markdown",
      "metadata": {
        "id": "V8kMRZnXvJOk"
      },
      "source": [
        "**Fit the model**"
      ]
    },
    {
      "cell_type": "code",
      "metadata": {
        "colab": {
          "base_uri": "https://localhost:8080/"
        },
        "id": "R0cMiXsIvQgp",
        "outputId": "447851ae-2be8-4311-d38c-076f3d39c352"
      },
      "source": [
        "# Fit the model \n",
        "\n",
        "history = model.fit(train_images[...,np.newaxis], train_labels, epochs=8, batch_size=256)"
      ],
      "execution_count": 22,
      "outputs": [
        {
          "output_type": "stream",
          "text": [
            "Epoch 1/8\n",
            "235/235 [==============================] - 32s 4ms/step - loss: 0.5792 - sparse_categorical_accuracy: 0.7988 - mean_absolute_error: 4.4200\n",
            "Epoch 2/8\n",
            "235/235 [==============================] - 1s 4ms/step - loss: 0.3770 - sparse_categorical_accuracy: 0.8679 - mean_absolute_error: 4.4200\n",
            "Epoch 3/8\n",
            "235/235 [==============================] - 1s 4ms/step - loss: 0.3380 - sparse_categorical_accuracy: 0.8806 - mean_absolute_error: 4.4200\n",
            "Epoch 4/8\n",
            "235/235 [==============================] - 1s 4ms/step - loss: 0.3185 - sparse_categorical_accuracy: 0.8865 - mean_absolute_error: 4.4200\n",
            "Epoch 5/8\n",
            "235/235 [==============================] - 1s 4ms/step - loss: 0.3047 - sparse_categorical_accuracy: 0.8921 - mean_absolute_error: 4.4200\n",
            "Epoch 6/8\n",
            "235/235 [==============================] - 1s 4ms/step - loss: 0.2936 - sparse_categorical_accuracy: 0.8953 - mean_absolute_error: 4.4200\n",
            "Epoch 7/8\n",
            "235/235 [==============================] - 1s 4ms/step - loss: 0.2852 - sparse_categorical_accuracy: 0.8978 - mean_absolute_error: 4.4200\n",
            "Epoch 8/8\n",
            "235/235 [==============================] - 1s 4ms/step - loss: 0.2767 - sparse_categorical_accuracy: 0.9000 - mean_absolute_error: 4.4200\n"
          ],
          "name": "stdout"
        }
      ]
    },
    {
      "cell_type": "markdown",
      "metadata": {
        "id": "LD6G1k-O7AHK"
      },
      "source": [
        "**Plot training history**"
      ]
    },
    {
      "cell_type": "code",
      "metadata": {
        "colab": {
          "base_uri": "https://localhost:8080/",
          "height": 204
        },
        "id": "QxzoFQnT7Cfk",
        "outputId": "70ed7b07-581c-4c19-9321-0cef0956ae70"
      },
      "source": [
        "# Load the history into a pandas Dataframe\n",
        "\n",
        "df = pd.DataFrame(history.history)\n",
        "df.head()"
      ],
      "execution_count": 23,
      "outputs": [
        {
          "output_type": "execute_result",
          "data": {
            "text/html": [
              "<div>\n",
              "<style scoped>\n",
              "    .dataframe tbody tr th:only-of-type {\n",
              "        vertical-align: middle;\n",
              "    }\n",
              "\n",
              "    .dataframe tbody tr th {\n",
              "        vertical-align: top;\n",
              "    }\n",
              "\n",
              "    .dataframe thead th {\n",
              "        text-align: right;\n",
              "    }\n",
              "</style>\n",
              "<table border=\"1\" class=\"dataframe\">\n",
              "  <thead>\n",
              "    <tr style=\"text-align: right;\">\n",
              "      <th></th>\n",
              "      <th>loss</th>\n",
              "      <th>sparse_categorical_accuracy</th>\n",
              "      <th>mean_absolute_error</th>\n",
              "    </tr>\n",
              "  </thead>\n",
              "  <tbody>\n",
              "    <tr>\n",
              "      <th>0</th>\n",
              "      <td>0.579199</td>\n",
              "      <td>0.798817</td>\n",
              "      <td>4.420000</td>\n",
              "    </tr>\n",
              "    <tr>\n",
              "      <th>1</th>\n",
              "      <td>0.377031</td>\n",
              "      <td>0.867883</td>\n",
              "      <td>4.420001</td>\n",
              "    </tr>\n",
              "    <tr>\n",
              "      <th>2</th>\n",
              "      <td>0.337952</td>\n",
              "      <td>0.880550</td>\n",
              "      <td>4.420000</td>\n",
              "    </tr>\n",
              "    <tr>\n",
              "      <th>3</th>\n",
              "      <td>0.318512</td>\n",
              "      <td>0.886500</td>\n",
              "      <td>4.420000</td>\n",
              "    </tr>\n",
              "    <tr>\n",
              "      <th>4</th>\n",
              "      <td>0.304749</td>\n",
              "      <td>0.892067</td>\n",
              "      <td>4.420001</td>\n",
              "    </tr>\n",
              "  </tbody>\n",
              "</table>\n",
              "</div>"
            ],
            "text/plain": [
              "       loss  sparse_categorical_accuracy  mean_absolute_error\n",
              "0  0.579199                     0.798817             4.420000\n",
              "1  0.377031                     0.867883             4.420001\n",
              "2  0.337952                     0.880550             4.420000\n",
              "3  0.318512                     0.886500             4.420000\n",
              "4  0.304749                     0.892067             4.420001"
            ]
          },
          "metadata": {
            "tags": []
          },
          "execution_count": 23
        }
      ]
    },
    {
      "cell_type": "code",
      "metadata": {
        "colab": {
          "base_uri": "https://localhost:8080/",
          "height": 312
        },
        "id": "zsOEvfcD7lTe",
        "outputId": "49059c41-041e-468e-d19c-b51160df7c68"
      },
      "source": [
        "# Make a plot for the loss\n",
        "\n",
        "loss_plot = df.plot(y='loss', title = 'Loss vs Epochs', legend = False)\n",
        "loss_plot.set(xlabel='Epochs', ylabel='Loss')"
      ],
      "execution_count": 24,
      "outputs": [
        {
          "output_type": "execute_result",
          "data": {
            "text/plain": [
              "[Text(0, 0.5, 'Loss'), Text(0.5, 0, 'Epochs')]"
            ]
          },
          "metadata": {
            "tags": []
          },
          "execution_count": 24
        },
        {
          "output_type": "display_data",
          "data": {
            "image/png": "[encoded data removed]",
            "text/plain": [
              "<Figure size 432x288 with 1 Axes>"
            ]
          },
          "metadata": {
            "tags": [],
            "needs_background": "light"
          }
        }
      ]
    },
    {
      "cell_type": "code",
      "metadata": {
        "colab": {
          "base_uri": "https://localhost:8080/",
          "height": 312
        },
        "id": "WhuX0x0R7nwl",
        "outputId": "f63ba495-0e15-4d0e-dee4-4d3ebd9b5eef"
      },
      "source": [
        "# Make a plot for the accuracy\n",
        "\n",
        "accuracy_plot = df.plot(y='sparse_categorical_accuracy', title = 'Accuracy vs Epochs', legend = False)\n",
        "accuracy_plot.set(xlabel='Epochs', ylabel='Accuracy')"
      ],
      "execution_count": 25,
      "outputs": [
        {
          "output_type": "execute_result",
          "data": {
            "text/plain": [
              "[Text(0, 0.5, 'Accuracy'), Text(0.5, 0, 'Epochs')]"
            ]
          },
          "metadata": {
            "tags": []
          },
          "execution_count": 25
        },
        {
          "output_type": "display_data",
          "data": {
            "image/png": "[encoded data removed]",
            "text/plain": [
              "<Figure size 432x288 with 1 Axes>"
            ]
          },
          "metadata": {
            "tags": [],
            "needs_background": "light"
          }
        }
      ]
    },
    {
      "cell_type": "code",
      "metadata": {
        "colab": {
          "base_uri": "https://localhost:8080/",
          "height": 312
        },
        "id": "tKcnXDvm7p0P",
        "outputId": "c11a03c2-bd9c-42d8-e24d-5f586970f06f"
      },
      "source": [
        "# Make a plot for mean absolute error\n",
        "\n",
        "accuracy_plot = df.plot(y='mean_absolute_error', title = 'Mean Absolute Error vs Epochs', legend = False)\n",
        "accuracy_plot.set(xlabel='Epochs', ylabel='Mean Absolute Error')"
      ],
      "execution_count": 26,
      "outputs": [
        {
          "output_type": "execute_result",
          "data": {
            "text/plain": [
              "[Text(0, 0.5, 'Mean Absolute Error'), Text(0.5, 0, 'Epochs')]"
            ]
          },
          "metadata": {
            "tags": []
          },
          "execution_count": 26
        },
        {
          "output_type": "display_data",
          "data": {
            "image/png": "[encoded data removed]",
            "text/plain": [
              "<Figure size 432x288 with 1 Axes>"
            ]
          },
          "metadata": {
            "tags": [],
            "needs_background": "light"
          }
        }
      ]
    },
    {
      "cell_type": "markdown",
      "metadata": {
        "id": "EpQMLZW77slF"
      },
      "source": [
        "## **The evaluate and predict methods**"
      ]
    },
    {
      "cell_type": "code",
      "metadata": {
        "id": "PXmC4Kf7-r8q"
      },
      "source": [
        "import matplotlib.pyplot as plt\n",
        "import numpy as np"
      ],
      "execution_count": 27,
      "outputs": []
    },
    {
      "cell_type": "markdown",
      "metadata": {
        "id": "5ZTvgk8a-v0F"
      },
      "source": [
        "**Evaluate the model on the test set**"
      ]
    },
    {
      "cell_type": "code",
      "metadata": {
        "colab": {
          "base_uri": "https://localhost:8080/"
        },
        "id": "4eRRSc28-z6u",
        "outputId": "7501e543-5cff-44f7-d3a4-85f652618297"
      },
      "source": [
        "# Evaluate the model\n",
        "\n",
        "test_loss, test_accuracy, test_mae = model.evaluate(test_images[..., np.newaxis], test_labels, verbose=2)"
      ],
      "execution_count": 28,
      "outputs": [
        {
          "output_type": "stream",
          "text": [
            "313/313 - 1s - loss: 0.3057 - sparse_categorical_accuracy: 0.8928 - mean_absolute_error: 4.4200\n"
          ],
          "name": "stdout"
        }
      ]
    },
    {
      "cell_type": "markdown",
      "metadata": {
        "id": "AH5Xjr-g_GqT"
      },
      "source": [
        "**Make predictions from the model**"
      ]
    },
    {
      "cell_type": "code",
      "metadata": {
        "colab": {
          "base_uri": "https://localhost:8080/",
          "height": 282
        },
        "id": "NRCl4YWb_gTK",
        "outputId": "63bca50b-1a54-4a49-9163-b6906e968caa"
      },
      "source": [
        "# Choose a random test image\n",
        "\n",
        "#random_inx = np.random.choice(test_images.shape[0])\n",
        "inx=30\n",
        "#test_image = test_images[random_inx]\n",
        "test_image = test_images[inx]\n",
        "plt.imshow(test_image)\n",
        "plt.show()\n",
        "print(f\"Label: {labels[test_labels[inx]]}\")\n",
        "#print(f\"Label: {labels[test_labels[random_inx]]}\")"
      ],
      "execution_count": 29,
      "outputs": [
        {
          "output_type": "display_data",
          "data": {
            "image/png": "[encoded data removed]",
            "text/plain": [
              "<Figure size 432x288 with 1 Axes>"
            ]
          },
          "metadata": {
            "tags": [],
            "needs_background": "light"
          }
        },
        {
          "output_type": "stream",
          "text": [
            "Label: Bag\n"
          ],
          "name": "stdout"
        }
      ]
    },
    {
      "cell_type": "code",
      "metadata": {
        "colab": {
          "base_uri": "https://localhost:8080/"
        },
        "id": "DxxjhnEQ_2Ha",
        "outputId": "eed3ed51-74c2-4f42-f200-ddd8d618b8da"
      },
      "source": [
        "# Get the model predictions\n",
        "\n",
        "predictions = model.predict(test_image[np.newaxis,...,np.newaxis])\n",
        "print(f\"Model prediction:{labels[np.argmax(predictions)]}\")"
      ],
      "execution_count": 30,
      "outputs": [
        {
          "output_type": "stream",
          "text": [
            "Model prediction:Bag\n"
          ],
          "name": "stdout"
        }
      ]
    },
    {
      "cell_type": "code",
      "metadata": {
        "id": "ZXn9PfdZAYqS"
      },
      "source": [
        ""
      ],
      "execution_count": 30,
      "outputs": []
    }
  ]
}