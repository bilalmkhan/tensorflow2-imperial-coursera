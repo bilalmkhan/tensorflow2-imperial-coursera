{
  "nbformat": 4,
  "nbformat_minor": 0,
  "metadata": {
    "colab": {
      "name": "2. (Lab) Validation, regularisation and callbacks.ipynb",
      "provenance": []
    },
    "kernelspec": {
      "name": "python3",
      "display_name": "Python 3"
    },
    "language_info": {
      "name": "python"
    }
  },
  "cells": [
    {
      "cell_type": "markdown",
      "metadata": {
        "id": "iWvLoqR_JFPT"
      },
      "source": [
        "*Getting Started with Tensorflow 2*\n",
        "\n",
        "*Week 2 Lab*\n",
        "\n",
        "*Coursera/Imperial College London*"
      ]
    },
    {
      "cell_type": "code",
      "metadata": {
        "id": "ev1uy2ZGlQw4"
      },
      "source": [
        "#!pip install tensorflow==2.0"
      ],
      "execution_count": 1,
      "outputs": []
    },
    {
      "cell_type": "code",
      "metadata": {
        "colab": {
          "base_uri": "https://localhost:8080/"
        },
        "id": "gphrHMw8JNa1",
        "outputId": "5e6c77b5-668c-4a57-8775-4af6d4a76ca1"
      },
      "source": [
        "import tensorflow as tf\n",
        "print(tf.__version__)"
      ],
      "execution_count": 2,
      "outputs": [
        {
          "output_type": "stream",
          "text": [
            "2.0.0\n"
          ],
          "name": "stdout"
        }
      ]
    },
    {
      "cell_type": "markdown",
      "metadata": {
        "id": "_m4C3FOBJUzQ"
      },
      "source": [
        "# Validation, regularisation and callbacks"
      ]
    },
    {
      "cell_type": "markdown",
      "metadata": {
        "id": "U-oK31n4JoB-"
      },
      "source": [
        "### **Validations sets**"
      ]
    },
    {
      "cell_type": "markdown",
      "metadata": {
        "id": "3s112TAgJw7z"
      },
      "source": [
        "**Load the data**"
      ]
    },
    {
      "cell_type": "code",
      "metadata": {
        "colab": {
          "base_uri": "https://localhost:8080/"
        },
        "id": "KzdfkqTFJzqL",
        "outputId": "4c1a925a-a356-46de-998c-56bb970a9e99"
      },
      "source": [
        "# Load the diabetes dataset\n",
        "from sklearn.datasets import load_diabetes\n",
        "\n",
        "diabetes_dataset = load_diabetes()\n",
        "print(diabetes_dataset['DESCR'])"
      ],
      "execution_count": 3,
      "outputs": [
        {
          "output_type": "stream",
          "text": [
            ".. _diabetes_dataset:\n",
            "\n",
            "Diabetes dataset\n",
            "----------------\n",
            "\n",
            "Ten baseline variables, age, sex, body mass index, average blood\n",
            "pressure, and six blood serum measurements were obtained for each of n =\n",
            "442 diabetes patients, as well as the response of interest, a\n",
            "quantitative measure of disease progression one year after baseline.\n",
            "\n",
            "**Data Set Characteristics:**\n",
            "\n",
            "  :Number of Instances: 442\n",
            "\n",
            "  :Number of Attributes: First 10 columns are numeric predictive values\n",
            "\n",
            "  :Target: Column 11 is a quantitative measure of disease progression one year after baseline\n",
            "\n",
            "  :Attribute Information:\n",
            "      - Age\n",
            "      - Sex\n",
            "      - Body mass index\n",
            "      - Average blood pressure\n",
            "      - S1\n",
            "      - S2\n",
            "      - S3\n",
            "      - S4\n",
            "      - S5\n",
            "      - S6\n",
            "\n",
            "Note: Each of these 10 feature variables have been mean centered and scaled by the standard deviation times `n_samples` (i.e. the sum of squares of each column totals 1).\n",
            "\n",
            "Source URL:\n",
            "https://www4.stat.ncsu.edu/~boos/var.select/diabetes.html\n",
            "\n",
            "For more information see:\n",
            "Bradley Efron, Trevor Hastie, Iain Johnstone and Robert Tibshirani (2004) \"Least Angle Regression,\" Annals of Statistics (with discussion), 407-499.\n",
            "(https://web.stanford.edu/~hastie/Papers/LARS/LeastAngle_2002.pdf)\n"
          ],
          "name": "stdout"
        }
      ]
    },
    {
      "cell_type": "code",
      "metadata": {
        "id": "elEZ1N7YJ-AF"
      },
      "source": [
        "# Save the input and target variables\n",
        "#print(diabetes_dataset.keys())\n",
        "\n",
        "data = diabetes_dataset['data']\n",
        "targets = diabetes_dataset['target']"
      ],
      "execution_count": 4,
      "outputs": []
    },
    {
      "cell_type": "code",
      "metadata": {
        "id": "UgchZaEKKA-B"
      },
      "source": [
        "# Normalise the target data (this will make clearer training curves)\n",
        "targets = (targets - targets.mean(axis=0)) / targets.std()\n",
        "\n",
        "#targets"
      ],
      "execution_count": 5,
      "outputs": []
    },
    {
      "cell_type": "code",
      "metadata": {
        "colab": {
          "base_uri": "https://localhost:8080/"
        },
        "id": "1UL-J1cwKHiU",
        "outputId": "9ceffb37-85dd-4aa9-c6bc-092718d12400"
      },
      "source": [
        "# Split the data into train and test sets\n",
        "\n",
        "from sklearn.model_selection import train_test_split\n",
        "\n",
        "train_data, test_data, train_targets, test_targets = train_test_split(data, targets, test_size=0.1)\n",
        "\n",
        "print(train_data.shape)\n",
        "print(test_data.shape)\n",
        "print(train_targets.shape)\n",
        "print(test_targets.shape)"
      ],
      "execution_count": 6,
      "outputs": [
        {
          "output_type": "stream",
          "text": [
            "(397, 10)\n",
            "(45, 10)\n",
            "(397,)\n",
            "(45,)\n"
          ],
          "name": "stdout"
        }
      ]
    },
    {
      "cell_type": "markdown",
      "metadata": {
        "id": "-696eQ9fKKTV"
      },
      "source": [
        "**Train a feedfoward neural network model**"
      ]
    },
    {
      "cell_type": "code",
      "metadata": {
        "id": "5_snDDXaKQuN"
      },
      "source": [
        "# Build the model\n",
        "\n",
        "from tensorflow.keras.models import Sequential\n",
        "from tensorflow.keras.layers import Dense\n",
        "\n",
        "def get_model():\n",
        "  model = Sequential([\n",
        "      Dense(128, activation='relu', input_shape=(train_data.shape[1],)),\n",
        "      Dense(128, activation='relu'),\n",
        "      Dense(128, activation='relu'),\n",
        "      Dense(128, activation='relu'),\n",
        "      Dense(128, activation='relu'),\n",
        "      Dense(128, activation='relu'),\n",
        "      Dense(1)\n",
        "  ])\n",
        "  return model\n",
        "\n",
        "model = get_model()\n",
        "      "
      ],
      "execution_count": 7,
      "outputs": []
    },
    {
      "cell_type": "code",
      "metadata": {
        "colab": {
          "base_uri": "https://localhost:8080/"
        },
        "id": "gr7t-6t9KUnr",
        "outputId": "d1872f68-3987-4092-eddd-5b9341540fa8"
      },
      "source": [
        "# Print the model summary\n",
        "\n",
        "model.summary()"
      ],
      "execution_count": 8,
      "outputs": [
        {
          "output_type": "stream",
          "text": [
            "Model: \"sequential\"\n",
            "_________________________________________________________________\n",
            "Layer (type)                 Output Shape              Param #   \n",
            "=================================================================\n",
            "dense (Dense)                (None, 128)               1408      \n",
            "_________________________________________________________________\n",
            "dense_1 (Dense)              (None, 128)               16512     \n",
            "_________________________________________________________________\n",
            "dense_2 (Dense)              (None, 128)               16512     \n",
            "_________________________________________________________________\n",
            "dense_3 (Dense)              (None, 128)               16512     \n",
            "_________________________________________________________________\n",
            "dense_4 (Dense)              (None, 128)               16512     \n",
            "_________________________________________________________________\n",
            "dense_5 (Dense)              (None, 128)               16512     \n",
            "_________________________________________________________________\n",
            "dense_6 (Dense)              (None, 1)                 129       \n",
            "=================================================================\n",
            "Total params: 84,097\n",
            "Trainable params: 84,097\n",
            "Non-trainable params: 0\n",
            "_________________________________________________________________\n"
          ],
          "name": "stdout"
        }
      ]
    },
    {
      "cell_type": "code",
      "metadata": {
        "id": "iuLHU0_1KaTg"
      },
      "source": [
        "# Compile the model\n",
        "\n",
        "model.compile(optimizer='adam', loss='mse', metrics=['mae'])"
      ],
      "execution_count": 9,
      "outputs": []
    },
    {
      "cell_type": "code",
      "metadata": {
        "id": "Nw1lpwhMKbyb"
      },
      "source": [
        "# Train the model, with some of the data reserved for validation\n",
        "\n",
        "history = model.fit(train_data, train_targets, epochs=100,\n",
        "                    validation_split=0.15, batch_size=64, verbose=False)"
      ],
      "execution_count": 10,
      "outputs": []
    },
    {
      "cell_type": "code",
      "metadata": {
        "colab": {
          "base_uri": "https://localhost:8080/"
        },
        "id": "t35p-xAhOMEM",
        "outputId": "991fc913-4268-4ca2-82e3-56b8dda88263"
      },
      "source": [
        "# Evaluate the model on the test set\n",
        "\n",
        "model.evaluate(test_data, test_targets, verbose=2)"
      ],
      "execution_count": 11,
      "outputs": [
        {
          "output_type": "stream",
          "text": [
            "45/1 - 0s - loss: 0.9091 - mae: 0.7104\n"
          ],
          "name": "stdout"
        },
        {
          "output_type": "execute_result",
          "data": {
            "text/plain": [
              "[0.8293033666080899, 0.7103962]"
            ]
          },
          "metadata": {
            "tags": []
          },
          "execution_count": 11
        }
      ]
    },
    {
      "cell_type": "markdown",
      "metadata": {
        "id": "tRBzr0x2O9p2"
      },
      "source": [
        "**Plot the learning curves**"
      ]
    },
    {
      "cell_type": "code",
      "metadata": {
        "id": "rJN9b57uPFgK"
      },
      "source": [
        "import matplotlib.pyplot as plt\n",
        "%matplotlib inline"
      ],
      "execution_count": 12,
      "outputs": []
    },
    {
      "cell_type": "code",
      "metadata": {
        "colab": {
          "base_uri": "https://localhost:8080/",
          "height": 295
        },
        "id": "vucMg3_WOaBS",
        "outputId": "f810ffdf-9498-4d8a-deee-37cd3d3cf43d"
      },
      "source": [
        "# Plot the training and validation loss\n",
        "\n",
        "plt.plot(history.history['loss'])\n",
        "plt.plot(history.history['val_loss'])\n",
        "plt.title('Loss vs. epochs')\n",
        "plt.ylabel('Loss')\n",
        "plt.xlabel('Epoch')\n",
        "plt.legend(['Training', 'Validation'], loc='upper right')\n",
        "plt.show()"
      ],
      "execution_count": 13,
      "outputs": [
        {
          "output_type": "display_data",
          "data": {
            "image/png": "[encoded data removed]",
            "text/plain": [
              "<Figure size 432x288 with 1 Axes>"
            ]
          },
          "metadata": {
            "tags": [],
            "needs_background": "light"
          }
        }
      ]
    },
    {
      "cell_type": "markdown",
      "metadata": {
        "id": "eXjfGXVkO6U4"
      },
      "source": [
        "###**Model regularisation**"
      ]
    },
    {
      "cell_type": "markdown",
      "metadata": {
        "id": "5K6CZ170bvsq"
      },
      "source": [
        "**Adding regularisation with weight decay and dropout**"
      ]
    },
    {
      "cell_type": "code",
      "metadata": {
        "id": "U9ChAc-ib2eS"
      },
      "source": [
        "from tensorflow.keras.layers import Dropout\n",
        "from tensorflow.keras import regularizers"
      ],
      "execution_count": 14,
      "outputs": []
    },
    {
      "cell_type": "code",
      "metadata": {
        "id": "NHG0CmKvb-Ks"
      },
      "source": [
        "def get_regularised_model(wd, rate):\n",
        "  model = Sequential([\n",
        "                      Dense(128, kernel_regularizer=regularizers.l2(wd), activation='relu', input_shape=(train_data.shape[1],)),\n",
        "                      Dropout(rate),\n",
        "                      Dense(128, kernel_regularizer=regularizers.l2(wd), activation='relu'),\n",
        "                      Dropout(rate),\n",
        "                      Dense(128, kernel_regularizer=regularizers.l2(wd), activation='relu'),\n",
        "                      Dropout(rate),\n",
        "                      Dense(128, kernel_regularizer=regularizers.l2(wd), activation='relu'),\n",
        "                      Dropout(rate),\n",
        "                      Dense(128, kernel_regularizer=regularizers.l2(wd), activation='relu'),\n",
        "                      Dropout(rate),\n",
        "                      Dense(128, kernel_regularizer=regularizers.l2(wd), activation='relu'),\n",
        "                      Dropout(rate),\n",
        "                      Dense(1)\n",
        "                      ])\n",
        "  return model"
      ],
      "execution_count": 15,
      "outputs": []
    },
    {
      "cell_type": "markdown",
      "metadata": {
        "id": "zUl4jzUyc27Y"
      },
      "source": [
        "If you're familiar with tensorflow one, you should be extra careful here when giving the dropout rate. Because by default in Tensorflow 1, the argument is taken to be the keep probability, or one minus the dropout rate that we are using here."
      ]
    },
    {
      "cell_type": "code",
      "metadata": {
        "id": "b5tktfk5c90v"
      },
      "source": [
        "# Re-build the model with weight decay and dropout layers\n",
        "model = get_regularised_model(1e-5, 0.3)"
      ],
      "execution_count": 16,
      "outputs": []
    },
    {
      "cell_type": "code",
      "metadata": {
        "id": "Hmvu_RNAdJSg"
      },
      "source": [
        "# Compile the model\n",
        "model.compile(optimizer='adam', loss='mae', metrics=['mae'])"
      ],
      "execution_count": 17,
      "outputs": []
    },
    {
      "cell_type": "code",
      "metadata": {
        "id": "POMX3XykdLQK"
      },
      "source": [
        "# Train the model, with some of the data reserved for validation\n",
        "history = model.fit(train_data, train_targets, epochs=100, \n",
        "                    validation_split=0.15, batch_size=64, verbose=False)"
      ],
      "execution_count": 18,
      "outputs": []
    },
    {
      "cell_type": "code",
      "metadata": {
        "colab": {
          "base_uri": "https://localhost:8080/"
        },
        "id": "Mbb4CP6kdOvh",
        "outputId": "55cdf4dc-3bf5-4f79-d165-e61d81591235"
      },
      "source": [
        "# Evaluate the model on the test set\n",
        "model.evaluate(test_data, test_targets, verbose=2)"
      ],
      "execution_count": 19,
      "outputs": [
        {
          "output_type": "stream",
          "text": [
            "45/1 - 0s - loss: 0.6244 - mae: 0.6054\n"
          ],
          "name": "stdout"
        },
        {
          "output_type": "execute_result",
          "data": {
            "text/plain": [
              "[0.6116993519994948, 0.6054453]"
            ]
          },
          "metadata": {
            "tags": []
          },
          "execution_count": 19
        }
      ]
    },
    {
      "cell_type": "markdown",
      "metadata": {
        "id": "mXormesEdRZ0"
      },
      "source": [
        "**Plot the learning curves**"
      ]
    },
    {
      "cell_type": "code",
      "metadata": {
        "colab": {
          "base_uri": "https://localhost:8080/",
          "height": 295
        },
        "id": "ksoO2Z_2dUbB",
        "outputId": "23d999e1-230c-4b0a-cfd6-045b7335d6c9"
      },
      "source": [
        "# Plot the training and validation loss\n",
        "\n",
        "import matplotlib.pyplot as plt\n",
        "\n",
        "plt.plot(history.history['loss'])\n",
        "plt.plot(history.history['val_loss'])\n",
        "plt.title('Loss vs. epochs')\n",
        "plt.ylabel('Loss')\n",
        "plt.xlabel('Epoch')\n",
        "plt.legend(['Training', 'Validation'], loc='upper right')\n",
        "plt.show()"
      ],
      "execution_count": 20,
      "outputs": [
        {
          "output_type": "display_data",
          "data": {
            "image/png": "[encoded data removed]",
            "text/plain": [
              "<Figure size 432x288 with 1 Axes>"
            ]
          },
          "metadata": {
            "tags": [],
            "needs_background": "light"
          }
        }
      ]
    },
    {
      "cell_type": "markdown",
      "metadata": {
        "id": "LL663GMVetD1"
      },
      "source": [
        "###**Introduction to Callbacks**"
      ]
    },
    {
      "cell_type": "markdown",
      "metadata": {
        "id": "nnNG__7eLsvo"
      },
      "source": [
        "**Example training callback**"
      ]
    },
    {
      "cell_type": "code",
      "metadata": {
        "id": "vhvDgT-CLxIk"
      },
      "source": [
        "# Write a custom callback\n",
        "\n",
        "from tensorflow.keras.callbacks import Callback\n",
        "\n",
        "class TrainingCallback(Callback):\n",
        "\n",
        "  def on_train_begin(self, logs=None):\n",
        "    print(\"Starting training...\")\n",
        "\n",
        "  def on_epoch_begin(self, epoch, logs=None):\n",
        "    print(f\"Starting epoch {epoch}\")\n",
        "\n",
        "  def on_train_batch_begin(self, batch, logs=None):\n",
        "    print(f\"Training: Starting batch {batch}\")\n",
        "  \n",
        "  def on_train_batch_end(self, batch, logs=None):\n",
        "    print(f\"Training: Finished batch {batch}\")\n",
        "  \n",
        "  def on_epoch_end(self, epoch, logs=None):\n",
        "    print(f\"Finished epoch {epoch}\")\n",
        "  \n",
        "  def on_train_end(self, logs=None):\n",
        "    print(\"Finished training:\")"
      ],
      "execution_count": 21,
      "outputs": []
    },
    {
      "cell_type": "code",
      "metadata": {
        "id": "eN7ztniUN1mw"
      },
      "source": [
        "# Re-build the model\n",
        "\n",
        "model = get_regularised_model(1e-5, 0.3)"
      ],
      "execution_count": 22,
      "outputs": []
    },
    {
      "cell_type": "code",
      "metadata": {
        "id": "VEPThBnoN-LO"
      },
      "source": [
        "# Compile the model \n",
        "\n",
        "model.compile(optimizer=\"adam\", loss=\"mae\")"
      ],
      "execution_count": 23,
      "outputs": []
    },
    {
      "cell_type": "markdown",
      "metadata": {
        "id": "seSeJvi7OYz9"
      },
      "source": [
        "**Train the model with the callback**"
      ]
    },
    {
      "cell_type": "code",
      "metadata": {
        "colab": {
          "base_uri": "https://localhost:8080/"
        },
        "id": "viCamkefOdLq",
        "outputId": "ec8a3eae-ceef-4159-dff0-775b294c8e6f"
      },
      "source": [
        "# Train the model, with some of the data reserved for validation\n",
        "\n",
        "model.fit(train_data, train_targets, epochs=3, batch_size=128, verbose=False, callbacks=[TrainingCallback()])"
      ],
      "execution_count": 24,
      "outputs": [
        {
          "output_type": "stream",
          "text": [
            "Starting training...\n",
            "Starting epoch 0\n",
            "Training: Starting batch 0\n",
            "Training: Finished batch 0\n",
            "Training: Starting batch 1\n",
            "Training: Finished batch 1\n",
            "Training: Starting batch 2\n",
            "Training: Finished batch 2\n",
            "Training: Starting batch 3\n",
            "Training: Finished batch 3\n",
            "Finished epoch 0\n",
            "Starting epoch 1\n",
            "Training: Starting batch 0\n",
            "Training: Finished batch 0\n",
            "Training: Starting batch 1\n",
            "Training: Finished batch 1\n",
            "Training: Starting batch 2\n",
            "Training: Finished batch 2\n",
            "Training: Starting batch 3\n",
            "Training: Finished batch 3\n",
            "Finished epoch 1\n",
            "Starting epoch 2\n",
            "Training: Starting batch 0\n",
            "Training: Finished batch 0\n",
            "Training: Starting batch 1\n",
            "Training: Finished batch 1\n",
            "Training: Starting batch 2\n",
            "Training: Finished batch 2\n",
            "Training: Starting batch 3\n",
            "Training: Finished batch 3\n",
            "Finished epoch 2\n",
            "Finished training:\n"
          ],
          "name": "stdout"
        },
        {
          "output_type": "execute_result",
          "data": {
            "text/plain": [
              "<tensorflow.python.keras.callbacks.History at 0x7f0ea212ab90>"
            ]
          },
          "metadata": {
            "tags": []
          },
          "execution_count": 24
        }
      ]
    },
    {
      "cell_type": "code",
      "metadata": {
        "id": "tzaNoScOO-d9"
      },
      "source": [
        "class TestingCallback(Callback):\n",
        "\n",
        "  def on_test_begin(self, logs=None):\n",
        "    print(\"Starting testing...\")\n",
        "\n",
        "  def on_test_batch_begin(self, batch, logs=None):\n",
        "    print(f\"Testing: Starting batch {batch}\")\n",
        "  \n",
        "  def on_test_batch_end(self, batch, logs=None):\n",
        "    print(f\"Testing: Finished batch {batch}\")\n",
        "  \n",
        "  def on_test_end(self, logs=None):\n",
        "    print(\"Finished testing:\")"
      ],
      "execution_count": 25,
      "outputs": []
    },
    {
      "cell_type": "code",
      "metadata": {
        "colab": {
          "base_uri": "https://localhost:8080/"
        },
        "id": "p1PB3yUaOhQY",
        "outputId": "0f6b17f2-ab74-4d6a-fd33-733149addf51"
      },
      "source": [
        "# Evaluate the model\n",
        "\n",
        "model.evaluate(test_data, test_targets, verbose=False, callbacks=[TestingCallback()])"
      ],
      "execution_count": 26,
      "outputs": [
        {
          "output_type": "stream",
          "text": [
            "Starting testing...\n",
            "Testing: Starting batch 0\n",
            "Testing: Finished batch 0\n",
            "Testing: Starting batch 1\n",
            "Testing: Finished batch 1\n",
            "Finished testing:\n"
          ],
          "name": "stdout"
        },
        {
          "output_type": "execute_result",
          "data": {
            "text/plain": [
              "0.8164519389470418"
            ]
          },
          "metadata": {
            "tags": []
          },
          "execution_count": 26
        }
      ]
    },
    {
      "cell_type": "code",
      "metadata": {
        "id": "19z-PATrPqhD"
      },
      "source": [
        "class PredictionCallback(Callback):\n",
        "\n",
        "  def on_predict_begin(self, logs=None):\n",
        "    print(\"Starting prediction...\")\n",
        "\n",
        "  def on_predict_batch_begin(self, batch, logs=None):\n",
        "    print(f\"Prediction: Starting batch {batch}\")\n",
        "  \n",
        "  def on_predict_batch_end(self, batch, logs=None):\n",
        "    print(f\"Prediction: Finished batch {batch}\")\n",
        "  \n",
        "  def on_predict_end(self, logs=None):\n",
        "    print(\"Finished prediction:\")"
      ],
      "execution_count": 27,
      "outputs": []
    },
    {
      "cell_type": "code",
      "metadata": {
        "colab": {
          "base_uri": "https://localhost:8080/"
        },
        "id": "r0svxLrFOirU",
        "outputId": "5cde2880-4b32-414a-b4e7-268f058a445f"
      },
      "source": [
        "# Make predictions with the model\n",
        "\n",
        "model.predict(test_data, verbose=False, callbacks=[PredictionCallback()])"
      ],
      "execution_count": 28,
      "outputs": [
        {
          "output_type": "stream",
          "text": [
            "Starting prediction...\n",
            "Prediction: Starting batch 0\n",
            "Prediction: Finished batch 0\n",
            "Prediction: Starting batch 1\n",
            "Prediction: Finished batch 1\n",
            "Finished prediction:\n"
          ],
          "name": "stdout"
        },
        {
          "output_type": "execute_result",
          "data": {
            "text/plain": [
              "array([[-0.1569641 ],\n",
              "       [-0.14449295],\n",
              "       [-0.16686746],\n",
              "       [-0.16361703],\n",
              "       [-0.08649811],\n",
              "       [-0.17609194],\n",
              "       [-0.18141685],\n",
              "       [-0.16253802],\n",
              "       [-0.10827801],\n",
              "       [-0.09149125],\n",
              "       [-0.09595225],\n",
              "       [-0.1707513 ],\n",
              "       [-0.1290118 ],\n",
              "       [-0.12450729],\n",
              "       [-0.18982963],\n",
              "       [-0.10286193],\n",
              "       [-0.10726932],\n",
              "       [-0.19929093],\n",
              "       [-0.09631908],\n",
              "       [-0.20286584],\n",
              "       [-0.20275003],\n",
              "       [-0.1569543 ],\n",
              "       [-0.11869434],\n",
              "       [-0.1597741 ],\n",
              "       [-0.09556255],\n",
              "       [-0.20887521],\n",
              "       [-0.17957227],\n",
              "       [-0.1951263 ],\n",
              "       [-0.17451024],\n",
              "       [-0.11569791],\n",
              "       [-0.14137541],\n",
              "       [-0.12229139],\n",
              "       [-0.06776708],\n",
              "       [-0.10261365],\n",
              "       [-0.17172217],\n",
              "       [-0.07658674],\n",
              "       [-0.08843324],\n",
              "       [-0.0696481 ],\n",
              "       [-0.13523404],\n",
              "       [-0.08493643],\n",
              "       [-0.0774026 ],\n",
              "       [-0.10538361],\n",
              "       [-0.13322428],\n",
              "       [-0.12681542],\n",
              "       [-0.1977396 ]], dtype=float32)"
            ]
          },
          "metadata": {
            "tags": []
          },
          "execution_count": 28
        }
      ]
    },
    {
      "cell_type": "markdown",
      "metadata": {
        "id": "ZBGUeDPbQIQq"
      },
      "source": [
        "###**Early stopping / patience**\n",
        "\n",
        "**Re-train the models with early stopping**"
      ]
    },
    {
      "cell_type": "code",
      "metadata": {
        "id": "QMJBuoDFZ6GA"
      },
      "source": [
        "# Re-train the unregularised model\n",
        "\n",
        "unregularised_model = get_model()\n",
        "unregularised_model.compile(optimizer='adam', loss='mse')\n",
        "unreg_history = unregularised_model.fit(train_data, \n",
        "                                        train_targets, \n",
        "                                        epochs=100,\n",
        "                                        validation_split=0.15, \n",
        "                                        batch_size=64, \n",
        "                                        verbose=False, \n",
        "                                        callbacks=[tf.keras.callbacks.EarlyStopping()])"
      ],
      "execution_count": 29,
      "outputs": []
    },
    {
      "cell_type": "code",
      "metadata": {
        "colab": {
          "base_uri": "https://localhost:8080/"
        },
        "id": "AxCh2W4Pali6",
        "outputId": "d0aee3bc-7699-48fc-8591-ca985e51c5ba"
      },
      "source": [
        "# Evaluate the mdoel on the test set\n",
        "\n",
        "unregularised_model.evaluate(test_data, test_targets, verbose=2)"
      ],
      "execution_count": 30,
      "outputs": [
        {
          "output_type": "stream",
          "text": [
            "45/1 - 0s - loss: 0.5251\n"
          ],
          "name": "stdout"
        },
        {
          "output_type": "execute_result",
          "data": {
            "text/plain": [
              "0.6068576508098178"
            ]
          },
          "metadata": {
            "tags": []
          },
          "execution_count": 30
        }
      ]
    },
    {
      "cell_type": "code",
      "metadata": {
        "id": "EtLyL8yceNG3"
      },
      "source": [
        "# Re-train the unregularised_model\n",
        "\n",
        "regularised_model = get_regularised_model(1e-8, 0.2)\n",
        "regularised_model.compile(optimizer='adam', loss='mse')\n",
        "reg_history = regularised_model.fit(train_data, \n",
        "                                    train_targets, \n",
        "                                    epochs=100,\n",
        "                                    validation_split=0.15, \n",
        "                                    batch_size=64,\n",
        "                                    verbose=False,\n",
        "                                    callbacks=[tf.keras.callbacks.EarlyStopping()])"
      ],
      "execution_count": 31,
      "outputs": []
    },
    {
      "cell_type": "code",
      "metadata": {
        "colab": {
          "base_uri": "https://localhost:8080/"
        },
        "id": "emusUoP4ecwo",
        "outputId": "38288ce7-fdc5-4c02-9337-139dbb141e16"
      },
      "source": [
        "# Evaluate the model on the test set\n",
        "\n",
        "regularised_model.evaluate(test_data, test_targets, verbose=2)"
      ],
      "execution_count": 32,
      "outputs": [
        {
          "output_type": "stream",
          "text": [
            "45/1 - 0s - loss: 0.4925\n"
          ],
          "name": "stdout"
        },
        {
          "output_type": "execute_result",
          "data": {
            "text/plain": [
              "0.5424834701750013"
            ]
          },
          "metadata": {
            "tags": []
          },
          "execution_count": 32
        }
      ]
    },
    {
      "cell_type": "markdown",
      "metadata": {
        "id": "a9zmMh8ofHah"
      },
      "source": [
        "**Plot the learning curves**"
      ]
    },
    {
      "cell_type": "code",
      "metadata": {
        "colab": {
          "base_uri": "https://localhost:8080/",
          "height": 350
        },
        "id": "XGI4zdgqfW6a",
        "outputId": "5e7132f3-9d2f-48f8-c0d5-eb26d31eb8f5"
      },
      "source": [
        "# Plot the training and validation loss\n",
        "\n",
        "import matplotlib.pyplot as plt\n",
        "\n",
        "fig = plt.figure(figsize=(12, 5))\n",
        "\n",
        "fig.add_subplot(121)\n",
        "\n",
        "plt.plot(unreg_history.history['loss'])\n",
        "plt.plot(unreg_history.history['val_loss'])\n",
        "plt.title('Unregularised model: loss vs. epochs')\n",
        "plt.ylabel('Loss')\n",
        "plt.xlabel('Epoch')\n",
        "plt.legend(['Training', 'Validation'], loc='upper right')\n",
        "\n",
        "fig.add_subplot(122)\n",
        "\n",
        "plt.plot(reg_history.history['loss'])\n",
        "plt.plot(reg_history.history['val_loss'])\n",
        "plt.title('Regularised model: loss vs. epochs')\n",
        "plt.ylabel('Loss')\n",
        "plt.xlabel('Epoch')\n",
        "plt.legend(['Training', 'Validation'], loc='upper right')\n",
        "\n",
        "plt.show()"
      ],
      "execution_count": 33,
      "outputs": [
        {
          "output_type": "display_data",
          "data": {
            "image/png": "[encoded data removed]",
            "text/plain": [
              "<Figure size 864x360 with 2 Axes>"
            ]
          },
          "metadata": {
            "tags": [],
            "needs_background": "light"
          }
        }
      ]
    },
    {
      "cell_type": "code",
      "metadata": {
        "id": "MZ7JjEF0f5eh"
      },
      "source": [
        ""
      ],
      "execution_count": 33,
      "outputs": []
    }
  ]
}
